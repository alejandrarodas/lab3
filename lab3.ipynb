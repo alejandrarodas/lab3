{
 "cells": [
  {
   "cell_type": "markdown",
   "metadata": {},
   "source": [
    "# Parte 1: Programación y sintaxis"
   ]
  },
  {
   "cell_type": "markdown",
   "metadata": {},
   "source": [
    "## 1.1"
   ]
  },
  {
   "cell_type": "code",
   "execution_count": 77,
   "metadata": {},
   "outputs": [],
   "source": [
    "import math\n",
    "from datetime import date\n",
    "import datetime "
   ]
  },
  {
   "cell_type": "code",
   "execution_count": 81,
   "metadata": {},
   "outputs": [
    {
     "name": "stdin",
     "output_type": "stream",
     "text": [
      "Ingresa los segundos que deseas convertir:  3700\n"
     ]
    },
    {
     "name": "stdout",
     "output_type": "stream",
     "text": [
      "Horas:  1 Minutos:  1 Segundos:  40\n"
     ]
    }
   ],
   "source": [
    "segundos=int(input(\"Ingresa los segundos que deseas convertir: \"))\n",
    "horas=segundos/3600\n",
    "horas=math.floor(horas)\n",
    "minutos=(segundos%3600)/60\n",
    "minutos=math.floor(minutos)\n",
    "segundos=(segundos%3600)%60\n",
    "print(\"Horas: \", horas, \"Minutos: \", minutos, \"Segundos: \", segundos)"
   ]
  },
  {
   "cell_type": "markdown",
   "metadata": {},
   "source": [
    "## 1.2"
   ]
  },
  {
   "cell_type": "code",
   "execution_count": 80,
   "metadata": {},
   "outputs": [
    {
     "name": "stdin",
     "output_type": "stream",
     "text": [
      "Ingrese un numero 20\n",
      "Ingrese un caracter p\n"
     ]
    },
    {
     "name": "stdout",
     "output_type": "stream",
     "text": [
      "p\n",
      "pp\n",
      "ppp\n",
      "pppp\n",
      "ppppp\n",
      "pppppp\n",
      "ppppppp\n",
      "pppppppp\n",
      "ppppppppp\n",
      "pppppppppp\n",
      "ppppppppppp\n",
      "pppppppppppp\n",
      "ppppppppppppp\n",
      "pppppppppppppp\n",
      "ppppppppppppppp\n",
      "pppppppppppppppp\n",
      "ppppppppppppppppp\n",
      "pppppppppppppppppp\n",
      "ppppppppppppppppppp\n",
      "pppppppppppppppppppp\n",
      "\n",
      "\n",
      "pppppppppppppppppppp\n",
      " ppppppppppppppppppp\n",
      "  pppppppppppppppppp\n",
      "   ppppppppppppppppp\n",
      "    pppppppppppppppp\n",
      "     ppppppppppppppp\n",
      "      pppppppppppppp\n",
      "       ppppppppppppp\n",
      "        pppppppppppp\n",
      "         ppppppppppp\n",
      "          pppppppppp\n",
      "           ppppppppp\n",
      "            pppppppp\n",
      "             ppppppp\n",
      "              pppppp\n",
      "               ppppp\n",
      "                pppp\n",
      "                 ppp\n",
      "                  pp\n",
      "                   p\n",
      "\n",
      "\n",
      "pppppppppppppppppppp\n",
      "ppppppppppppppppppp\n",
      "pppppppppppppppppp\n",
      "ppppppppppppppppp\n",
      "pppppppppppppppp\n",
      "ppppppppppppppp\n",
      "pppppppppppppp\n",
      "ppppppppppppp\n",
      "pppppppppppp\n",
      "ppppppppppp\n",
      "pppppppppp\n",
      "ppppppppp\n",
      "pppppppp\n",
      "ppppppp\n",
      "pppppp\n",
      "ppppp\n",
      "pppp\n",
      "ppp\n",
      "pp\n",
      "p\n",
      "\n",
      "\n",
      "                    p\n",
      "                   pp\n",
      "                  ppp\n",
      "                 pppp\n",
      "                ppppp\n",
      "               pppppp\n",
      "              ppppppp\n",
      "             pppppppp\n",
      "            ppppppppp\n",
      "           pppppppppp\n",
      "          ppppppppppp\n",
      "         pppppppppppp\n",
      "        ppppppppppppp\n",
      "       pppppppppppppp\n",
      "      ppppppppppppppp\n",
      "     pppppppppppppppp\n",
      "    ppppppppppppppppp\n",
      "   pppppppppppppppppp\n",
      "  ppppppppppppppppppp\n",
      " pppppppppppppppppppp\n"
     ]
    }
   ],
   "source": [
    "i = int(input(\"Ingrese un numero\"))\n",
    "x = input(\"Ingrese un caracter\")\n",
    "\n",
    "j = 0\n",
    "while j < i:\n",
    "    o = i-j\n",
    "    while o <= i:\n",
    "        print(x, end='')\n",
    "        o += 1\n",
    "    print('')\n",
    "    j += 1\n",
    "\n",
    "print('')\n",
    "print('')\n",
    "\n",
    "j = 0\n",
    "while j < i:\n",
    "    o = 0\n",
    "    while o < j:\n",
    "        print(' ', end='')\n",
    "        o += 1\n",
    "\n",
    "    o = i-j\n",
    "    while o > 0:\n",
    "        print(x, end='')\n",
    "        o -= 1\n",
    "    print('')\n",
    "    j += 1\n",
    "\n",
    "print('')\n",
    "print('')\n",
    "\n",
    "\n",
    "j = 0\n",
    "while j < i:\n",
    "    o = i-j\n",
    "    while o > 0:\n",
    "        print(x, end='')\n",
    "        o -= 1\n",
    "    print('')\n",
    "    j += 1\n",
    "\n",
    "print('')\n",
    "print('')\n",
    "\n",
    "j = 0\n",
    "while j < i:\n",
    "    \n",
    "    o = 0\n",
    "    while o < (i-j):\n",
    "      print(' ', end='')\n",
    "      o += 1\n",
    "\n",
    "    o = i-j\n",
    "    while o <= i:\n",
    "      print(x, end='')\n",
    "      o += 1\n",
    "    print('')\n",
    "    j += 1"
   ]
  },
  {
   "cell_type": "markdown",
   "metadata": {},
   "source": [
    "## 1.3"
   ]
  },
  {
   "cell_type": "code",
   "execution_count": 79,
   "metadata": {},
   "outputs": [
    {
     "name": "stdout",
     "output_type": "stream",
     "text": [
      "Ingrese su fecha de nacimiento: \n"
     ]
    },
    {
     "name": "stdin",
     "output_type": "stream",
     "text": [
      "Día:  18\n",
      "Mes:  12\n",
      "Año:  1990\n"
     ]
    },
    {
     "name": "stdout",
     "output_type": "stream",
     "text": [
      "Hoy su edad aproximada es: \n",
      "Años:  30.0 Meses:  8.0 Días:  22.0 Horas:  19.0 Minutos:  1.0\n"
     ]
    }
   ],
   "source": [
    "hoy = datetime.datetime.now()\n",
    "\n",
    "print(\"Ingrese su fecha de nacimiento: \")\n",
    "dd=int(input(\"Día: \"))\n",
    "mm=int(input(\"Mes: \"))\n",
    "aaaa=int(input(\"Año: \"))\n",
    "\n",
    "fecha=datetime.datetime(aaaa,mm,dd)\n",
    "\n",
    "print(\"Hoy su edad aproximada es: \")\n",
    "\n",
    "edad=hoy-fecha\n",
    "\n",
    "edad=edad.total_seconds()\n",
    "\n",
    "anios = divmod(edad, 31536000)[0]\n",
    "meses = divmod(edad, 86400*30)[0]%12\n",
    "dias  = divmod(edad, 86400)[0]%30\n",
    "horas = divmod(edad, 3600)[0]%24\n",
    "minutos = divmod(edad, 60)[0]%60\n",
    "\n",
    "print(\"Años: \", anios, \"Meses: \", meses, \"Días: \", dias, \"Horas: \", horas, \"Minutos: \", minutos)"
   ]
  },
  {
   "cell_type": "markdown",
   "metadata": {},
   "source": [
    "# Parte 2: Estructuras de Datos"
   ]
  },
  {
   "cell_type": "markdown",
   "metadata": {},
   "source": [
    "## 2.1"
   ]
  },
  {
   "cell_type": "code",
   "execution_count": 76,
   "metadata": {},
   "outputs": [
    {
     "name": "stdout",
     "output_type": "stream",
     "text": [
      "102015570\n"
     ]
    }
   ],
   "source": [
    "laTupla = (10, 20, 15, 5, 70) \n",
    "\n",
    "aux = ''\n",
    "for i in laTupla:\n",
    "  aux = aux + str(i)\n",
    "\n",
    "print(aux)"
   ]
  },
  {
   "cell_type": "markdown",
   "metadata": {},
   "source": [
    "## 2.2 "
   ]
  },
  {
   "cell_type": "code",
   "execution_count": 82,
   "metadata": {},
   "outputs": [
    {
     "name": "stdout",
     "output_type": "stream",
     "text": [
      "[(), (), 'X', ('a', 'b'), ('a', 'b', 'c'), 'd']\n",
      "[('X',), ('a', 'b'), ('a', 'b', 'c'), ('d',)]\n"
     ]
    }
   ],
   "source": [
    "elArray = [(), (), ('X'), ('a', 'b'), ('a', 'b', 'c'), ('d')]\n",
    "print(elArray)\n",
    "\n",
    "arr = []\n",
    "for i in elArray:\n",
    "  if( len(i) > 1 ):\n",
    "    arr.append(i)\n",
    "  if (len(i) == 1):\n",
    "    arr.append( (i,) )\n",
    "\n",
    "print(arr)"
   ]
  },
  {
   "cell_type": "markdown",
   "metadata": {},
   "source": [
    "## 2.3"
   ]
  },
  {
   "cell_type": "code",
   "execution_count": 83,
   "metadata": {},
   "outputs": [
    {
     "name": "stdout",
     "output_type": "stream",
     "text": [
      "(10.5, 44.0, 58.0)\n"
     ]
    }
   ],
   "source": [
    "laTupla =  ((10, 10, 10, 12), (30, 45, 56, 45), (81, 80, 39, 32))\n",
    "\n",
    "arr = []\n",
    "for i in laTupla:\n",
    "  avg = 0\n",
    "  for o in i:\n",
    "    avg += o\n",
    "  arr.append(avg / len(i))\n",
    "  laTupla = tuple(arr)\n",
    "print(laTupla)"
   ]
  }
 ],
 "metadata": {
  "kernelspec": {
   "display_name": "Python 3",
   "language": "python",
   "name": "python3"
  },
  "language_info": {
   "codemirror_mode": {
    "name": "ipython",
    "version": 3
   },
   "file_extension": ".py",
   "mimetype": "text/x-python",
   "name": "python",
   "nbconvert_exporter": "python",
   "pygments_lexer": "ipython3",
   "version": "3.8.5"
  }
 },
 "nbformat": 4,
 "nbformat_minor": 4
}
